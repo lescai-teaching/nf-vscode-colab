{
  "nbformat": 4,
  "nbformat_minor": 2,
  "metadata": {
    "colab": {
      "name": "nextflow_VScode_colab.ipynb",
      "provenance": [],
      "collapsed_sections": []
    },
    "kernelspec": {
      "display_name": "Python 3",
      "name": "python3"
    },
    "language_info": {
      "name": "python"
    }
  },
  "cells": [
    {
      "cell_type": "markdown",
      "source": [
        "# Run Nextflow in Google Colab & edit with VScode\n",
        "\n",
        "[![Open In Colab](https://colab.research.google.com/assets/colab-badge.svg)](https://colab.research.google.com/github/lescai-teaching/nf-vscode-colab/nextflow_VScode_colab.ipynb)\n",
        "\n",
        "## Basic Install\n",
        "\n",
        "We need to install Anaconda first, and append the python path: the following code uses a mix of bash commands and python."
      ],
      "metadata": {
        "id": "WGe7WJSI7t7U"
      }
    },
    {
      "cell_type": "code",
      "execution_count": null,
      "source": [
        "!wget https://repo.anaconda.com/archive/Anaconda3-2021.05-Linux-x86_64.sh\n",
        "!chmod +x Anaconda3-2021.05-Linux-x86_64.sh\n",
        "!bash Anaconda3-2021.05-Linux-x86_64.sh -b -f -p /usr/local >/dev/null\n",
        "import sys\n",
        "sys.path.append('/usr/local/lib/python3.8/site-packages')"
      ],
      "outputs": [],
      "metadata": {
        "id": "gST6JTSYUI5f"
      }
    },
    {
      "cell_type": "markdown",
      "source": [
        "## Install Software\n",
        "\n",
        "Now, using the freshly installed Anaconda, we are going to configure additional channels, and then install nextflow and nf-core tools."
      ],
      "metadata": {
        "id": "yXWbPbgsDAdc"
      }
    },
    {
      "cell_type": "code",
      "execution_count": null,
      "source": [
        "!conda config --system --prepend channels conda-forge\n",
        "!conda config --system --prepend channels bioconda \n",
        "!conda install -y nextflow \\\n",
        "nf-core >/dev/null"
      ],
      "outputs": [],
      "metadata": {
        "id": "18WaiaOEUqAP"
      }
    },
    {
      "cell_type": "markdown",
      "source": [
        "We now need to check that Nextflow is installed correctly: if you see the usage help, the job is done!"
      ],
      "metadata": {
        "id": "EBkeu0xUDTRk"
      }
    },
    {
      "cell_type": "code",
      "execution_count": null,
      "source": [
        "!nextflow -h"
      ],
      "outputs": [],
      "metadata": {
        "id": "wpOaAqEpV568"
      }
    },
    {
      "cell_type": "markdown",
      "source": [
        "As an additional test, we can use python to create a very basic groovy script, and execute it via nextflow."
      ],
      "metadata": {
        "id": "B3YNu3PrDbM2"
      }
    },
    {
      "cell_type": "code",
      "execution_count": null,
      "source": [
        "f = open(\"test.nf\", \"a\")\n",
        "content = [\"Channel.from(['test1', 'test2', 'test3'])\\n\",\n",
        "           \".view()\"]\n",
        "f.writelines(content)\n",
        "f.close()\n",
        "!nextflow run test.nf"
      ],
      "outputs": [],
      "metadata": {
        "id": "dlpNhXNnWGJx"
      }
    },
    {
      "cell_type": "markdown",
      "source": [
        "## Mount Google Drive\n",
        "\n",
        "In order to be able to save your files, we can mount google drive as \"googledrive\". The code below will require you to authenticate to your account, and paste an authentication code generated in the linked page that will appear."
      ],
      "metadata": {
        "id": "4wRq1xhdDhqb"
      }
    },
    {
      "cell_type": "code",
      "execution_count": null,
      "source": [
        "from google.colab import drive\n",
        "drive.mount('/googledrive')"
      ],
      "outputs": [],
      "metadata": {
        "id": "ohsITC8nzoQ9"
      }
    },
    {
      "cell_type": "markdown",
      "source": [
        "Once that is done, you will create a folder, and link that folder in the home location. You will see this folder appearing if you refresh your file explorer on the left hand side."
      ],
      "metadata": {
        "id": "zWnDoZsXDuuP"
      }
    },
    {
      "cell_type": "code",
      "execution_count": null,
      "source": [
        "! mkdir -p /googledrive/MyDrive/colabdrive\n",
        "! ln -s /googledrive/MyDrive/colabdrive ."
      ],
      "outputs": [],
      "metadata": {
        "id": "3NQ_TpPm4na4"
      }
    },
    {
      "cell_type": "markdown",
      "source": [
        "Now we can install and import a package that's been developed to make it easier to launch a VS Code server."
      ],
      "metadata": {
        "id": "kv1lkUKED6kd"
      }
    },
    {
      "cell_type": "code",
      "execution_count": null,
      "source": [
        "! pip install colabcode >/dev/null\n",
        "from colabcode import ColabCode"
      ],
      "outputs": [],
      "metadata": {
        "id": "5IwzvL0v1V56"
      }
    },
    {
      "cell_type": "markdown",
      "source": [
        "## Launch VS Code\n",
        "\n",
        "We are noe ready to launch a VS Code session. open the link that will appear below in a new tab."
      ],
      "metadata": {
        "id": "JTb2F2QgEEsE"
      }
    },
    {
      "cell_type": "code",
      "execution_count": null,
      "source": [
        "ColabCode(port=2222)"
      ],
      "outputs": [],
      "metadata": {
        "id": "cl2JFlBO1zFs"
      }
    }
  ]
}